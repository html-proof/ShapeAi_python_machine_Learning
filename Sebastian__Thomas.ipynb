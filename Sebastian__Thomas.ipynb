{
  "nbformat": 4,
  "nbformat_minor": 0,
  "metadata": {
    "colab": {
      "name": "Sebastian _Thomas.ipynb",
      "private_outputs": true,
      "provenance": []
    },
    "kernelspec": {
      "name": "python3",
      "display_name": "Python 3"
    },
    "language_info": {
      "name": "python"
    }
  },
  "cells": [
    {
      "cell_type": "code",
      "metadata": {
        "id": "IHtv_qWV38_H"
      },
      "source": [
        "import numpy as np\n",
        "import pandas as pd\n",
        "import sklearn\n",
        "\n",
        "from sklearn .datasets import load_boston\n",
        "df = load_boston()\n",
        "\n",
        "df.keys()\n",
        "\n",
        "boston =pd.DataFrame(df.data,columns=df.feature_names)\n",
        "boston['MEDV']=df.target\n",
        "boston.head()\n",
        "boston.isnull().sum()\n",
        "\n",
        "from sklearn.model_selection import train_test_split\n",
        "\n",
        "x =boston.drop('MEDV',axis=1)\n",
        "y =boston['MEDV']\n",
        "\n",
        "X_train,X_test,Y_train,Y_test = train_test_split(x, y, test_size = 0.15, random_state =1)\n",
        "print(X_train.shape)\n",
        "print(X_test.shape)\n",
        "print(Y_train.shape)\n",
        "print(Y_test.shape)\n",
        "\n",
        "from sklearn.linear_model import LinearRegression\n",
        "from sklearn.metrics import mean_squared_error\n",
        "\n",
        "lin_model = LinearRegression()\n",
        "lin_model.fit(X_train,Y_train)\n",
        "\n",
        "Y_train_predict =lin_model.predict(X_train)\n",
        "rmse =(np.sqrt(mean_squared_error(Y_train,Y_train_predict)))\n",
        "\n",
        "print(\"The model performance for training set\")\n",
        "print('RMSE is {}'.format(rmse))\n",
        "print(\"\\n\")\n",
        "\n",
        "y_test_predict = lin_model.predict(X_test)\n",
        "rmse =(np.sqrt(mean_squared_error(Y_test,y_test_predict)))\n",
        "\n",
        "print(\"the model performane for test set\")\n",
        "print(\"RMSE is {}\".format(rmse))"
      ],
      "execution_count": null,
      "outputs": []
    }
  ]
}